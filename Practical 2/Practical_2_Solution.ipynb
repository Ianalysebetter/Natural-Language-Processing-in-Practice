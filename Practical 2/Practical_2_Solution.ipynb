{
 "cells": [
  {
   "cell_type": "markdown",
   "id": "01080c56",
   "metadata": {},
   "source": [
    "### Task 1\n",
    "\n",
    "In Moodle you will find the file 110723EUParl.docx. Read the text inside into your console.\n",
    "It contains a plenary protocol of the European Parliament from the 11th of July 2023. In this\n",
    "exercise, you will use regular expressions to extract meta information from the file and separate\n",
    "the text into smaller parts. Write functions that can be generalized to other protocols of a\n",
    "similar structure. That is: when you are for instance trying to remove the table of contents, do\n",
    "not just remove the first 7 pages, but find a way to automatically detect when the main part\n",
    "starts (for instance using Regex).\n",
    "\n",
    "#### When you want to find a certain set of tokens using Regex you might want to proceed as follows:\n",
    "\n",
    "1. Look at the original document and identify structural features that could be used to identify the tokens you are looking for.\n",
    "2. Translate these loose strucutral features into Regex.\n",
    "3. Use Regex to see whether you detect your desired tokens and only your desired tokens.\n",
    "4. Modify your Regex to solve the exercise.\n"
   ]
  },
  {
   "cell_type": "markdown",
   "id": "58ef4fa0",
   "metadata": {},
   "source": [
    "### Solution\n",
    "\n",
    "#### Reading the Document and Pre-processing\n",
    "\n",
    "This step involves reading the document and preparing it for further processing, such as extracting meta information and splitting the document into chapters."
   ]
  },
  {
   "cell_type": "code",
   "execution_count": 28,
   "id": "749d2ebe",
   "metadata": {},
   "outputs": [
    {
     "name": "stdout",
     "output_type": "stream",
     "text": [
      "Requirement already satisfied: python-docx in c:\\users\\harsh\\anaconda3\\lib\\site-packages (1.1.0)\n",
      "Requirement already satisfied: lxml>=3.1.0 in c:\\users\\harsh\\anaconda3\\lib\\site-packages (from python-docx) (4.9.3)\n",
      "Requirement already satisfied: typing-extensions in c:\\users\\harsh\\anaconda3\\lib\\site-packages (from python-docx) (4.7.1)\n"
     ]
    }
   ],
   "source": [
    "!pip install python-docx\n",
    "\n",
    "from docx import Document\n",
    "import re\n",
    "from datetime import datetime\n",
    "\n",
    "def read_docx(file_path):\n",
    "    doc = Document(file_path)\n",
    "    full_text = []\n",
    "    for para in doc.paragraphs:\n",
    "        full_text.append(para.text)\n",
    "    return '\\n'.join(full_text)\n",
    "\n",
    "doc_text = read_docx('110723EUParl.docx')  # Update this to the correct path\n"
   ]
  },
  {
   "cell_type": "markdown",
   "id": "27e86780",
   "metadata": {},
   "source": [
    "### Task 2: \n",
    "\n",
    "### Solution\n",
    "\n",
    "#### Identify the date and the weekday of the plenary discussion. Transform the date into a date-object that can be used to create timelines in your programming language (e.g. package datetime in Python and as.Date() in R).\n",
    "\n",
    "\n",
    "Identifying the Date and Transforming It into a Date-object"
   ]
  },
  {
   "cell_type": "code",
   "execution_count": 29,
   "id": "172b5e39",
   "metadata": {},
   "outputs": [
    {
     "name": "stdout",
     "output_type": "stream",
     "text": [
      "Date of Discussion: 2023-07-11 00:00:00\n"
     ]
    }
   ],
   "source": [
    "date_pattern = r\"\\b\\d{1,2} [a-zA-Z]+ \\d{4}\\b\"\n",
    "date_match = re.search(date_pattern, doc_text)\n",
    "if date_match:\n",
    "    date_str = date_match.group()\n",
    "    date_obj = datetime.strptime(date_str, \"%d %B %Y\")  # Adjust the format based on the document\n",
    "    print(\"Date of Discussion:\", date_obj)\n",
    "else:\n",
    "    print(\"Date not found.\")\n"
   ]
  },
  {
   "cell_type": "markdown",
   "id": "32b325a9",
   "metadata": {},
   "source": [
    "### Task 3: \n",
    "\n",
    "#### From your large text, filter out the Attendance Register (here: page 35) and the cover sheet as well as the table of contents (here: everything until page 8) and remove them so that only the main part of the document is left.\n",
    "\n",
    "### Solution\n",
    "\n",
    "#### Filtering Out the Attendance Register, Cover Sheet, and Table of Contents\n",
    "\n",
    "This task is more nuanced and may require specific markers or text patterns unique to the document structure. Here's an example approach: "
   ]
  },
  {
   "cell_type": "code",
   "execution_count": 30,
   "id": "78d91f38",
   "metadata": {},
   "outputs": [],
   "source": [
    "# Assuming the main content starts after a specific heading, find that heading and split\n",
    "start_main_content = \"1. Opening of the sitting\"\n",
    "main_content = doc_text.split(start_main_content)[1]  # Adjust based on actual content\n",
    "\n",
    "# Remove the Attendance Register, assuming it's at the end\n",
    "end_marker = \"ATTENDANCE REGISTER\"\n",
    "main_content_without_register = main_content.split(end_marker)[0]  # Adjust based on actual content\n"
   ]
  },
  {
   "cell_type": "markdown",
   "id": "0e39579c",
   "metadata": {},
   "source": [
    "### Task 4: \n",
    "\n",
    "#### Split the text into the individual chapters provided in the original document.\n",
    "\n",
    "### Solution\n",
    "\n",
    "Splitting the Text into Individual Chapters"
   ]
  },
  {
   "cell_type": "code",
   "execution_count": 31,
   "id": "b158f83c",
   "metadata": {},
   "outputs": [],
   "source": [
    "# Example approach to split by chapter headings\n",
    "# Adjust regex to match chapter headings format in the document\n",
    "chapters = re.split(r'\\n\\d+\\.\\s+[A-Z].*', main_content_without_register)\n",
    "chapters = [chapter.strip() for chapter in chapters if chapter.strip()]  # Remove empty chapters\n"
   ]
  },
  {
   "cell_type": "code",
   "execution_count": 32,
   "id": "a283d2cd",
   "metadata": {},
   "outputs": [
    {
     "name": "stdout",
     "output_type": "stream",
     "text": [
      "['4', \"8.1. Request for the waiver of the immunity of Georgios Kyrtsos (vote)\\t6\\n8.2. Temporary trade-liberalisation measures supplementing trade concessions applicable to Moldovan products under the EU/Euratom/Moldova Association Agreement ***I (vote)\\t7\\n8.3. New Regulation on Construction Products ***I (vote)\\t7\\n8.4. Draft amending budget No 2/2023: Entering the surplus of the financial year 2022 (vote)\\t8\\n8.5. Mobilisation of the European Globalisation Adjustment Fund: application EGF/2023/001 BE/LNSA - Belgium (vote)\\t8\\n8.6. EU/Chile Agreement: modification of concessions on all the tariff rate quotas included in the EU Schedule CLXXV as a consequence of the United Kingdom's withdrawal from the European Union *** (vote)\\t8\\n8.7. EU/Japan Agreement: air services *** (vote)\\t9\\n8.8. Objection pursuant to Rule 112 (4): The food additives nitrites (E 249-250) and nitrates (E 251-252) (vote)\\t9\\n8.9. Objection pursuant to Rule 111 (3): Detailed production rules for organic sea salt and other organic salts for food and feed (vote)\\t9\\n8.10. Industrial Emissions Directive ***I (vote)\\t9\\n8.11. Industrial Emissions Portal ***I (vote)\\t10\\n8.12. Deployment of alternative fuels infrastructure ***I (vote)\\t11\\n8.13. Sustainable maritime fuels (FuelEU Maritime Initiative) ***I (vote)\\t11\\n8.14. Energy efficiency (recast) ***I (vote)\\t11\\n8.15. Protection of journalists and human rights defenders from manifestly unfounded or abusive court proceedings ***I (vote)\\t12\\n8.16. Management, conservation and control measures in the area covered under the Southern Indian Ocean Fisheries Agreement (SIOFA) ***I (vote)\\t12\\n8.17. European Chips Act ***I (vote)\\t12\\n8.18. Protection of journalists around the world and the European Union’s policy on the matter (vote)\\t13\\n8.19. The electoral law, the investigative committee and the rule of law in Poland (vote)\\t13\\n8.20. Implementation of passerelle clauses in the EU Treaties (vote)\\t13\\n8.21. Banking Union – annual report 2022 (vote)\\t14\\n8.22. Fostering and adapting vocational training as a tool for employees' success and a building block for the EU economy in the new industry 4.0 (vote)\\t14\", '11. 2023 Annual Rule of law report (debate)\\t15', '16. 2022 Report on Bosnia and Herzegovina (debate)\\t17', '18. 2022 Report on Albania (debate)\\t18', 'LIST OF DOCUMENTS SERVING AS A BASIS FOR THE DEBATES AND DECISIONS OF PARLIAMENT\\t21']\n"
     ]
    }
   ],
   "source": [
    "print(chapters)"
   ]
  },
  {
   "cell_type": "markdown",
   "id": "678856e2",
   "metadata": {},
   "source": [
    "### Thank you"
   ]
  },
  {
   "cell_type": "code",
   "execution_count": null,
   "id": "c012ca60",
   "metadata": {},
   "outputs": [],
   "source": []
  }
 ],
 "metadata": {
  "kernelspec": {
   "display_name": "Python 3 (ipykernel)",
   "language": "python",
   "name": "python3"
  },
  "language_info": {
   "codemirror_mode": {
    "name": "ipython",
    "version": 3
   },
   "file_extension": ".py",
   "mimetype": "text/x-python",
   "name": "python",
   "nbconvert_exporter": "python",
   "pygments_lexer": "ipython3",
   "version": "3.11.5"
  }
 },
 "nbformat": 4,
 "nbformat_minor": 5
}
